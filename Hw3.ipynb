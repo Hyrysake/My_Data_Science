{
  "nbformat": 4,
  "nbformat_minor": 0,
  "metadata": {
    "colab": {
      "provenance": [],
      "authorship_tag": "ABX9TyONNTIgHXx8/xv52wSLoqkd",
      "include_colab_link": true
    },
    "kernelspec": {
      "name": "python3",
      "display_name": "Python 3"
    },
    "language_info": {
      "name": "python"
    }
  },
  "cells": [
    {
      "cell_type": "markdown",
      "metadata": {
        "id": "view-in-github",
        "colab_type": "text"
      },
      "source": [
        "<a href=\"https://colab.research.google.com/github/Hyrysake/My_Data_Science/blob/main/Hw3.ipynb\" target=\"_parent\"><img src=\"https://colab.research.google.com/assets/colab-badge.svg\" alt=\"Open In Colab\"/></a>"
      ]
    },
    {
      "cell_type": "code",
      "execution_count": 32,
      "metadata": {
        "id": "cJllQEG6DuE-"
      },
      "outputs": [],
      "source": [
        "import numpy as np\n",
        "import pandas as pd\n",
        "import matplotlib.pyplot as plt\n",
        "import seaborn as sns\n",
        "from sklearn.model_selection import train_test_split\n",
        "from sklearn.preprocessing import StandardScaler\n",
        "from sklearn.linear_model import LinearRegression\n",
        "from sklearn.metrics import mean_squared_error"
      ]
    },
    {
      "cell_type": "markdown",
      "source": [
        "Напишіть функцію гіпотези лінійної регресії у векторному вигляді"
      ],
      "metadata": {
        "id": "jDVwD71AQD8n"
      }
    },
    {
      "cell_type": "code",
      "source": [
        "def linear_regression(X, w):\n",
        "    return np.dot(X, w)"
      ],
      "metadata": {
        "id": "H-pOp8NiLT2L"
      },
      "execution_count": 33,
      "outputs": []
    },
    {
      "cell_type": "code",
      "source": [
        "np.random.seed(0)\n",
        "X = np.random.rand(50, 2)\n",
        "w = np.random.rand(2)\n",
        "predictions = linear_regression(X, w)\n",
        "predictions"
      ],
      "metadata": {
        "colab": {
          "base_uri": "https://localhost:8080/"
        },
        "id": "zjoob8SkMarY",
        "outputId": "2b5ae3ff-f1d1-4e57-a7b2-03c4c0a6f7ba"
      },
      "execution_count": 39,
      "outputs": [
        {
          "output_type": "execute_result",
          "data": {
            "text/plain": [
              "array([0.5651017 , 0.55568579, 0.46155679, 0.53738967, 0.75671882,\n",
              "       0.67945017, 0.63494847, 0.07167502, 0.23851836, 0.76235773,\n",
              "       0.87910288, 0.52354744, 0.25295214, 0.35223537, 0.46567945,\n",
              "       0.38836944, 0.46266794, 0.17950255, 0.5814657 , 0.82378497,\n",
              "       0.36168251, 0.48912732, 0.63302308, 0.17741191, 0.31200736,\n",
              "       0.50491471, 0.69748904, 0.18513498, 0.51107838, 0.38207001,\n",
              "       0.13755438, 0.48218155, 0.23280551, 0.58270091, 0.59392025,\n",
              "       0.78839993, 0.82537793, 0.5116661 , 0.22414527, 0.23278615,\n",
              "       0.32738857, 0.23045323, 0.45570911, 0.38003087, 0.64130344,\n",
              "       0.39613743, 0.28274883, 0.24562736, 0.40297736, 0.56313708])"
            ]
          },
          "metadata": {},
          "execution_count": 39
        }
      ]
    },
    {
      "cell_type": "markdown",
      "source": [
        "Створіть функцію для обчислення функції втрат у векторному вигляді"
      ],
      "metadata": {
        "id": "P__JwkmTQK7V"
      }
    },
    {
      "cell_type": "code",
      "source": [
        "def loss_function(X, y, w):\n",
        "    m = X.shape[0]\n",
        "    return np.square(linear_regression(X, w) - y).sum() / (2*m)\n"
      ],
      "metadata": {
        "id": "KKj7OM5ZLx_g"
      },
      "execution_count": 40,
      "outputs": []
    },
    {
      "cell_type": "code",
      "source": [
        "np.random.seed(0)\n",
        "X = np.random.rand(50, 2)\n",
        "w = np.random.rand(2)\n",
        "y = np.random.rand(50)\n",
        "\n",
        "test_loss_function = loss_function(X, y, w)\n",
        "test_loss_function"
      ],
      "metadata": {
        "colab": {
          "base_uri": "https://localhost:8080/"
        },
        "id": "Urk7sq9VMckN",
        "outputId": "e2f82ce5-2f40-43de-ec10-8dac50206957"
      },
      "execution_count": 41,
      "outputs": [
        {
          "output_type": "execute_result",
          "data": {
            "text/plain": [
              "0.060349101872647956"
            ]
          },
          "metadata": {},
          "execution_count": 41
        }
      ]
    },
    {
      "cell_type": "markdown",
      "source": [
        "Реалізуйте один крок градієнтного спуску"
      ],
      "metadata": {
        "id": "h8Xrvm4LQPx_"
      }
    },
    {
      "cell_type": "code",
      "source": [
        "def step(w, grad_w, learning_rate=0.001):\n",
        "    w = w - learning_rate * grad_w\n",
        "    return w, grad_w\n",
        "\n",
        "def one_step_of_gradient_descent(X, y, w, num_iter=10000, learning_rate=0.001, epsilon=0.0000001):\n",
        "    loss_history = []\n",
        "\n",
        "    for i in range(num_iter):\n",
        "        m = len(X)\n",
        "        hypothesis = np.dot(X, w)\n",
        "        error = hypothesis - y\n",
        "        gradient = np.dot(X.T, error) / m\n",
        "        w, grad_w = step(w, gradient, learning_rate=learning_rate)\n",
        "\n",
        "        loss = np.mean(np.square(error))\n",
        "        loss_history.append(loss)\n",
        "\n",
        "        if len(loss_history) > 1 and abs(loss - loss_history[-2]) < epsilon:\n",
        "            break\n",
        "\n",
        "    return w, grad_w, loss_history"
      ],
      "metadata": {
        "id": "269ZEr_mMyIm"
      },
      "execution_count": 42,
      "outputs": []
    },
    {
      "cell_type": "code",
      "source": [
        "data = pd.read_csv('Housing.csv')\n",
        "\n",
        "print(data.head())"
      ],
      "metadata": {
        "colab": {
          "base_uri": "https://localhost:8080/"
        },
        "id": "6FQJu37aNBkk",
        "outputId": "084a8c29-bdf2-42c4-a045-64ad3b843ddf"
      },
      "execution_count": 43,
      "outputs": [
        {
          "output_type": "stream",
          "name": "stdout",
          "text": [
            "      price  area  bedrooms  bathrooms  stories mainroad guestroom basement  \\\n",
            "0  13300000  7420         4          2        3      yes        no       no   \n",
            "1  12250000  8960         4          4        4      yes        no       no   \n",
            "2  12250000  9960         3          2        2      yes        no      yes   \n",
            "3  12215000  7500         4          2        2      yes        no      yes   \n",
            "4  11410000  7420         4          1        2      yes       yes      yes   \n",
            "\n",
            "  hotwaterheating airconditioning  parking prefarea furnishingstatus  \n",
            "0              no             yes        2      yes        furnished  \n",
            "1              no             yes        3       no        furnished  \n",
            "2              no              no        2      yes   semi-furnished  \n",
            "3              no             yes        3      yes        furnished  \n",
            "4              no             yes        2       no        furnished  \n"
          ]
        }
      ]
    },
    {
      "cell_type": "markdown",
      "source": [
        "Знайдіть найкращі параметри w для датасету прогнозуючу ціну на будинок залежно від площі, кількості ванних кімнат та кількості спалень"
      ],
      "metadata": {
        "id": "UJVR5yqrQUTg"
      }
    },
    {
      "cell_type": "code",
      "source": [
        "scaler = StandardScaler()\n",
        "\n",
        "columns = ['area', 'bedrooms', 'bathrooms', 'price']\n",
        "result_data = scaler.fit_transform(data[columns])\n",
        "normalized_data = pd.DataFrame(result_data, columns=columns)\n",
        "\n",
        "normalized_data"
      ],
      "metadata": {
        "colab": {
          "base_uri": "https://localhost:8080/",
          "height": 424
        },
        "id": "vd8zrqoBNLkA",
        "outputId": "aae51da3-b8db-48b4-be0b-abc1400f7867"
      },
      "execution_count": 44,
      "outputs": [
        {
          "output_type": "execute_result",
          "data": {
            "text/plain": [
              "         area  bedrooms  bathrooms     price\n",
              "0    1.046726  1.403419   1.421812  4.566365\n",
              "1    1.757010  1.403419   5.405809  4.004484\n",
              "2    2.218232  0.047278   1.421812  4.004484\n",
              "3    1.083624  1.403419   1.421812  3.985755\n",
              "4    1.046726  1.403419  -0.570187  3.554979\n",
              "..        ...       ...        ...       ...\n",
              "540 -0.991879 -1.308863  -0.570187 -1.576868\n",
              "541 -1.268613  0.047278  -0.570187 -1.605149\n",
              "542 -0.705921 -1.308863  -0.570187 -1.614327\n",
              "543 -1.033389  0.047278  -0.570187 -1.614327\n",
              "544 -0.599839  0.047278  -0.570187 -1.614327\n",
              "\n",
              "[545 rows x 4 columns]"
            ],
            "text/html": [
              "\n",
              "  <div id=\"df-16628846-8269-4983-80b2-0fca68606d03\" class=\"colab-df-container\">\n",
              "    <div>\n",
              "<style scoped>\n",
              "    .dataframe tbody tr th:only-of-type {\n",
              "        vertical-align: middle;\n",
              "    }\n",
              "\n",
              "    .dataframe tbody tr th {\n",
              "        vertical-align: top;\n",
              "    }\n",
              "\n",
              "    .dataframe thead th {\n",
              "        text-align: right;\n",
              "    }\n",
              "</style>\n",
              "<table border=\"1\" class=\"dataframe\">\n",
              "  <thead>\n",
              "    <tr style=\"text-align: right;\">\n",
              "      <th></th>\n",
              "      <th>area</th>\n",
              "      <th>bedrooms</th>\n",
              "      <th>bathrooms</th>\n",
              "      <th>price</th>\n",
              "    </tr>\n",
              "  </thead>\n",
              "  <tbody>\n",
              "    <tr>\n",
              "      <th>0</th>\n",
              "      <td>1.046726</td>\n",
              "      <td>1.403419</td>\n",
              "      <td>1.421812</td>\n",
              "      <td>4.566365</td>\n",
              "    </tr>\n",
              "    <tr>\n",
              "      <th>1</th>\n",
              "      <td>1.757010</td>\n",
              "      <td>1.403419</td>\n",
              "      <td>5.405809</td>\n",
              "      <td>4.004484</td>\n",
              "    </tr>\n",
              "    <tr>\n",
              "      <th>2</th>\n",
              "      <td>2.218232</td>\n",
              "      <td>0.047278</td>\n",
              "      <td>1.421812</td>\n",
              "      <td>4.004484</td>\n",
              "    </tr>\n",
              "    <tr>\n",
              "      <th>3</th>\n",
              "      <td>1.083624</td>\n",
              "      <td>1.403419</td>\n",
              "      <td>1.421812</td>\n",
              "      <td>3.985755</td>\n",
              "    </tr>\n",
              "    <tr>\n",
              "      <th>4</th>\n",
              "      <td>1.046726</td>\n",
              "      <td>1.403419</td>\n",
              "      <td>-0.570187</td>\n",
              "      <td>3.554979</td>\n",
              "    </tr>\n",
              "    <tr>\n",
              "      <th>...</th>\n",
              "      <td>...</td>\n",
              "      <td>...</td>\n",
              "      <td>...</td>\n",
              "      <td>...</td>\n",
              "    </tr>\n",
              "    <tr>\n",
              "      <th>540</th>\n",
              "      <td>-0.991879</td>\n",
              "      <td>-1.308863</td>\n",
              "      <td>-0.570187</td>\n",
              "      <td>-1.576868</td>\n",
              "    </tr>\n",
              "    <tr>\n",
              "      <th>541</th>\n",
              "      <td>-1.268613</td>\n",
              "      <td>0.047278</td>\n",
              "      <td>-0.570187</td>\n",
              "      <td>-1.605149</td>\n",
              "    </tr>\n",
              "    <tr>\n",
              "      <th>542</th>\n",
              "      <td>-0.705921</td>\n",
              "      <td>-1.308863</td>\n",
              "      <td>-0.570187</td>\n",
              "      <td>-1.614327</td>\n",
              "    </tr>\n",
              "    <tr>\n",
              "      <th>543</th>\n",
              "      <td>-1.033389</td>\n",
              "      <td>0.047278</td>\n",
              "      <td>-0.570187</td>\n",
              "      <td>-1.614327</td>\n",
              "    </tr>\n",
              "    <tr>\n",
              "      <th>544</th>\n",
              "      <td>-0.599839</td>\n",
              "      <td>0.047278</td>\n",
              "      <td>-0.570187</td>\n",
              "      <td>-1.614327</td>\n",
              "    </tr>\n",
              "  </tbody>\n",
              "</table>\n",
              "<p>545 rows × 4 columns</p>\n",
              "</div>\n",
              "    <div class=\"colab-df-buttons\">\n",
              "\n",
              "  <div class=\"colab-df-container\">\n",
              "    <button class=\"colab-df-convert\" onclick=\"convertToInteractive('df-16628846-8269-4983-80b2-0fca68606d03')\"\n",
              "            title=\"Convert this dataframe to an interactive table.\"\n",
              "            style=\"display:none;\">\n",
              "\n",
              "  <svg xmlns=\"http://www.w3.org/2000/svg\" height=\"24px\" viewBox=\"0 -960 960 960\">\n",
              "    <path d=\"M120-120v-720h720v720H120Zm60-500h600v-160H180v160Zm220 220h160v-160H400v160Zm0 220h160v-160H400v160ZM180-400h160v-160H180v160Zm440 0h160v-160H620v160ZM180-180h160v-160H180v160Zm440 0h160v-160H620v160Z\"/>\n",
              "  </svg>\n",
              "    </button>\n",
              "\n",
              "  <style>\n",
              "    .colab-df-container {\n",
              "      display:flex;\n",
              "      gap: 12px;\n",
              "    }\n",
              "\n",
              "    .colab-df-convert {\n",
              "      background-color: #E8F0FE;\n",
              "      border: none;\n",
              "      border-radius: 50%;\n",
              "      cursor: pointer;\n",
              "      display: none;\n",
              "      fill: #1967D2;\n",
              "      height: 32px;\n",
              "      padding: 0 0 0 0;\n",
              "      width: 32px;\n",
              "    }\n",
              "\n",
              "    .colab-df-convert:hover {\n",
              "      background-color: #E2EBFA;\n",
              "      box-shadow: 0px 1px 2px rgba(60, 64, 67, 0.3), 0px 1px 3px 1px rgba(60, 64, 67, 0.15);\n",
              "      fill: #174EA6;\n",
              "    }\n",
              "\n",
              "    .colab-df-buttons div {\n",
              "      margin-bottom: 4px;\n",
              "    }\n",
              "\n",
              "    [theme=dark] .colab-df-convert {\n",
              "      background-color: #3B4455;\n",
              "      fill: #D2E3FC;\n",
              "    }\n",
              "\n",
              "    [theme=dark] .colab-df-convert:hover {\n",
              "      background-color: #434B5C;\n",
              "      box-shadow: 0px 1px 3px 1px rgba(0, 0, 0, 0.15);\n",
              "      filter: drop-shadow(0px 1px 2px rgba(0, 0, 0, 0.3));\n",
              "      fill: #FFFFFF;\n",
              "    }\n",
              "  </style>\n",
              "\n",
              "    <script>\n",
              "      const buttonEl =\n",
              "        document.querySelector('#df-16628846-8269-4983-80b2-0fca68606d03 button.colab-df-convert');\n",
              "      buttonEl.style.display =\n",
              "        google.colab.kernel.accessAllowed ? 'block' : 'none';\n",
              "\n",
              "      async function convertToInteractive(key) {\n",
              "        const element = document.querySelector('#df-16628846-8269-4983-80b2-0fca68606d03');\n",
              "        const dataTable =\n",
              "          await google.colab.kernel.invokeFunction('convertToInteractive',\n",
              "                                                    [key], {});\n",
              "        if (!dataTable) return;\n",
              "\n",
              "        const docLinkHtml = 'Like what you see? Visit the ' +\n",
              "          '<a target=\"_blank\" href=https://colab.research.google.com/notebooks/data_table.ipynb>data table notebook</a>'\n",
              "          + ' to learn more about interactive tables.';\n",
              "        element.innerHTML = '';\n",
              "        dataTable['output_type'] = 'display_data';\n",
              "        await google.colab.output.renderOutput(dataTable, element);\n",
              "        const docLink = document.createElement('div');\n",
              "        docLink.innerHTML = docLinkHtml;\n",
              "        element.appendChild(docLink);\n",
              "      }\n",
              "    </script>\n",
              "  </div>\n",
              "\n",
              "\n",
              "<div id=\"df-c88c8321-3f46-42f1-8eaa-dad044cab585\">\n",
              "  <button class=\"colab-df-quickchart\" onclick=\"quickchart('df-c88c8321-3f46-42f1-8eaa-dad044cab585')\"\n",
              "            title=\"Suggest charts\"\n",
              "            style=\"display:none;\">\n",
              "\n",
              "<svg xmlns=\"http://www.w3.org/2000/svg\" height=\"24px\"viewBox=\"0 0 24 24\"\n",
              "     width=\"24px\">\n",
              "    <g>\n",
              "        <path d=\"M19 3H5c-1.1 0-2 .9-2 2v14c0 1.1.9 2 2 2h14c1.1 0 2-.9 2-2V5c0-1.1-.9-2-2-2zM9 17H7v-7h2v7zm4 0h-2V7h2v10zm4 0h-2v-4h2v4z\"/>\n",
              "    </g>\n",
              "</svg>\n",
              "  </button>\n",
              "\n",
              "<style>\n",
              "  .colab-df-quickchart {\n",
              "      --bg-color: #E8F0FE;\n",
              "      --fill-color: #1967D2;\n",
              "      --hover-bg-color: #E2EBFA;\n",
              "      --hover-fill-color: #174EA6;\n",
              "      --disabled-fill-color: #AAA;\n",
              "      --disabled-bg-color: #DDD;\n",
              "  }\n",
              "\n",
              "  [theme=dark] .colab-df-quickchart {\n",
              "      --bg-color: #3B4455;\n",
              "      --fill-color: #D2E3FC;\n",
              "      --hover-bg-color: #434B5C;\n",
              "      --hover-fill-color: #FFFFFF;\n",
              "      --disabled-bg-color: #3B4455;\n",
              "      --disabled-fill-color: #666;\n",
              "  }\n",
              "\n",
              "  .colab-df-quickchart {\n",
              "    background-color: var(--bg-color);\n",
              "    border: none;\n",
              "    border-radius: 50%;\n",
              "    cursor: pointer;\n",
              "    display: none;\n",
              "    fill: var(--fill-color);\n",
              "    height: 32px;\n",
              "    padding: 0;\n",
              "    width: 32px;\n",
              "  }\n",
              "\n",
              "  .colab-df-quickchart:hover {\n",
              "    background-color: var(--hover-bg-color);\n",
              "    box-shadow: 0 1px 2px rgba(60, 64, 67, 0.3), 0 1px 3px 1px rgba(60, 64, 67, 0.15);\n",
              "    fill: var(--button-hover-fill-color);\n",
              "  }\n",
              "\n",
              "  .colab-df-quickchart-complete:disabled,\n",
              "  .colab-df-quickchart-complete:disabled:hover {\n",
              "    background-color: var(--disabled-bg-color);\n",
              "    fill: var(--disabled-fill-color);\n",
              "    box-shadow: none;\n",
              "  }\n",
              "\n",
              "  .colab-df-spinner {\n",
              "    border: 2px solid var(--fill-color);\n",
              "    border-color: transparent;\n",
              "    border-bottom-color: var(--fill-color);\n",
              "    animation:\n",
              "      spin 1s steps(1) infinite;\n",
              "  }\n",
              "\n",
              "  @keyframes spin {\n",
              "    0% {\n",
              "      border-color: transparent;\n",
              "      border-bottom-color: var(--fill-color);\n",
              "      border-left-color: var(--fill-color);\n",
              "    }\n",
              "    20% {\n",
              "      border-color: transparent;\n",
              "      border-left-color: var(--fill-color);\n",
              "      border-top-color: var(--fill-color);\n",
              "    }\n",
              "    30% {\n",
              "      border-color: transparent;\n",
              "      border-left-color: var(--fill-color);\n",
              "      border-top-color: var(--fill-color);\n",
              "      border-right-color: var(--fill-color);\n",
              "    }\n",
              "    40% {\n",
              "      border-color: transparent;\n",
              "      border-right-color: var(--fill-color);\n",
              "      border-top-color: var(--fill-color);\n",
              "    }\n",
              "    60% {\n",
              "      border-color: transparent;\n",
              "      border-right-color: var(--fill-color);\n",
              "    }\n",
              "    80% {\n",
              "      border-color: transparent;\n",
              "      border-right-color: var(--fill-color);\n",
              "      border-bottom-color: var(--fill-color);\n",
              "    }\n",
              "    90% {\n",
              "      border-color: transparent;\n",
              "      border-bottom-color: var(--fill-color);\n",
              "    }\n",
              "  }\n",
              "</style>\n",
              "\n",
              "  <script>\n",
              "    async function quickchart(key) {\n",
              "      const quickchartButtonEl =\n",
              "        document.querySelector('#' + key + ' button');\n",
              "      quickchartButtonEl.disabled = true;  // To prevent multiple clicks.\n",
              "      quickchartButtonEl.classList.add('colab-df-spinner');\n",
              "      try {\n",
              "        const charts = await google.colab.kernel.invokeFunction(\n",
              "            'suggestCharts', [key], {});\n",
              "      } catch (error) {\n",
              "        console.error('Error during call to suggestCharts:', error);\n",
              "      }\n",
              "      quickchartButtonEl.classList.remove('colab-df-spinner');\n",
              "      quickchartButtonEl.classList.add('colab-df-quickchart-complete');\n",
              "    }\n",
              "    (() => {\n",
              "      let quickchartButtonEl =\n",
              "        document.querySelector('#df-c88c8321-3f46-42f1-8eaa-dad044cab585 button');\n",
              "      quickchartButtonEl.style.display =\n",
              "        google.colab.kernel.accessAllowed ? 'block' : 'none';\n",
              "    })();\n",
              "  </script>\n",
              "</div>\n",
              "    </div>\n",
              "  </div>\n"
            ],
            "application/vnd.google.colaboratory.intrinsic+json": {
              "type": "dataframe",
              "variable_name": "normalized_data",
              "summary": "{\n  \"name\": \"normalized_data\",\n  \"rows\": 545,\n  \"fields\": [\n    {\n      \"column\": \"area\",\n      \"properties\": {\n        \"dtype\": \"number\",\n        \"std\": 1.0009186956462135,\n        \"min\": -1.6145297379755097,\n        \"max\": 5.096263187737839,\n        \"num_unique_values\": 284,\n        \"samples\": [\n          0.39178979651610985,\n          -1.1376252785124443,\n          0.09660715236102098\n        ],\n        \"semantic_type\": \"\",\n        \"description\": \"\"\n      }\n    },\n    {\n      \"column\": \"bedrooms\",\n      \"properties\": {\n        \"dtype\": \"number\",\n        \"std\": 1.0009186956462137,\n        \"min\": -2.665003779665438,\n        \"max\": 4.115701448708341,\n        \"num_unique_values\": 6,\n        \"samples\": [\n          1.4034193573588298,\n          0.047278311684073836,\n          -2.665003779665438\n        ],\n        \"semantic_type\": \"\",\n        \"description\": \"\"\n      }\n    },\n    {\n      \"column\": \"bathrooms\",\n      \"properties\": {\n        \"dtype\": \"number\",\n        \"std\": 1.0009186956462135,\n        \"min\": -0.5701867118926005,\n        \"max\": 5.405808633904846,\n        \"num_unique_values\": 4,\n        \"samples\": [\n          5.405808633904846,\n          3.4138101853056977,\n          1.4218117367065486\n        ],\n        \"semantic_type\": \"\",\n        \"description\": \"\"\n      }\n    },\n    {\n      \"column\": \"price\",\n      \"properties\": {\n        \"dtype\": \"number\",\n        \"std\": 1.0009186956462135,\n        \"min\": -1.6143267488861697,\n        \"max\": 4.566365125868969,\n        \"num_unique_values\": 219,\n        \"samples\": [\n          -0.5317692023381485,\n          0.2773395521752513,\n          -1.57686801025129\n        ],\n        \"semantic_type\": \"\",\n        \"description\": \"\"\n      }\n    }\n  ]\n}"
            }
          },
          "metadata": {},
          "execution_count": 44
        }
      ]
    },
    {
      "cell_type": "code",
      "source": [
        "X = normalized_data[['area', 'bathrooms', 'bedrooms']].values\n",
        "X = np.hstack((np.ones((X.shape[0], 1)) , X))\n",
        "y = normalized_data[\"price\"].values.reshape(-1, 1)\n",
        "\n",
        "n = X.shape[1]\n",
        "w = np.linspace(0, 0, n).reshape((n, 1))\n",
        "w, best_w, data_lost = one_step_of_gradient_descent(X, y, w, 10000, learning_rate=0.001)\n",
        "loss = data_lost[-1]\n",
        "\n",
        "print('Параметри шукані для w: ', best_w.flatten())\n",
        "print('Оптимальний параметр втрат: ', loss)"
      ],
      "metadata": {
        "colab": {
          "base_uri": "https://localhost:8080/"
        },
        "id": "kmqrGTJlOFX_",
        "outputId": "9b8e460e-f824-47b3-8771-6961ec8e52b2"
      },
      "execution_count": 52,
      "outputs": [
        {
          "output_type": "stream",
          "name": "stdout",
          "text": [
            "Параметри шукані для w:  [-3.17788609e-17 -4.33417916e-03 -3.33958730e-03  4.46421481e-03]\n",
            "Оптимальний параметр втрат:  0.5129846234686081\n"
          ]
        }
      ]
    },
    {
      "cell_type": "markdown",
      "source": [
        "Знайдіть ці ж параметри за допомогою аналітичного рішення"
      ],
      "metadata": {
        "id": "bDB1uR2kQdUk"
      }
    },
    {
      "cell_type": "code",
      "source": [
        "analytical_solution_w = np.dot(np.dot(np.linalg.inv(np.dot(X.T, X)), X.T), y)\n",
        "analytical_solution_loss = loss_function(X, y, analytical_solution_w)\n",
        "\n",
        "print('Параметри шукані для w: ', analytical_solution_w.flatten())\n",
        "print('Оптимальний параметр втрат: ', analytical_solution_loss)"
      ],
      "metadata": {
        "colab": {
          "base_uri": "https://localhost:8080/"
        },
        "id": "2aLvaHlxO15t",
        "outputId": "76dbf75c-9392-42aa-a8aa-c977622d9cf7"
      },
      "execution_count": 51,
      "outputs": [
        {
          "output_type": "stream",
          "name": "stdout",
          "text": [
            "Параметри шукані для w:  [6.82595372e-16 4.39452085e-01 3.72344423e-01 1.60528660e-01]\n",
            "Оптимальний параметр втрат:  0.2564584666470618\n"
          ]
        }
      ]
    },
    {
      "cell_type": "markdown",
      "source": [
        "Порівняйте отримані результати."
      ],
      "metadata": {
        "id": "O3kXQLsbQiJn"
      }
    },
    {
      "cell_type": "code",
      "source": [
        "print('Градієнтний спуск:')\n",
        "print('параметри шукані для w: ', best_w.flatten())\n",
        "print('Оптимальний параметр втрат: ', loss)\n",
        "\n",
        "print('')\n",
        "print('Аналітичне рішення:')\n",
        "print('Параметри шукані для w: ', analytical_solution_w.flatten())\n",
        "print('Оптимальний параметр втрат: ', analytical_solution_loss)\n",
        "\n",
        "difference_w = best_w.flatten() - analytical_solution_w.flatten()\n",
        "difference_loss = np.abs(loss - analytical_solution_loss)\n",
        "\n",
        "print('')\n",
        "print('Різниця в параметрах w: ', difference_w)\n",
        "print('Різниця у втратах: ', difference_loss)"
      ],
      "metadata": {
        "colab": {
          "base_uri": "https://localhost:8080/"
        },
        "id": "I4k_k58fPTSm",
        "outputId": "82b62c77-1d98-4afe-ccf0-46712a0c7ed4"
      },
      "execution_count": 50,
      "outputs": [
        {
          "output_type": "stream",
          "name": "stdout",
          "text": [
            "Градієнтний спуск:\n",
            "параметри шукані для w:  [-3.17788609e-17 -4.33417916e-03 -3.33958730e-03  4.46421481e-03]\n",
            "Оптимальний параметр втрат:  0.5129846234686081\n",
            "\n",
            "Аналітичне рішення:\n",
            "Параметри шукані для w:  [6.82595372e-16 4.39452085e-01 3.72344423e-01 1.60528660e-01]\n",
            "Оптимальний параметр втрат:  0.2564584666470618\n",
            "\n",
            "Різниця в параметрах w:  [-7.14374232e-16 -4.43786264e-01 -3.75684010e-01 -1.56064445e-01]\n",
            "Різниця у втратах:  0.2565261568215463\n"
          ]
        }
      ]
    }
  ]
}