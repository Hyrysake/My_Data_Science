{
  "nbformat": 4,
  "nbformat_minor": 0,
  "metadata": {
    "colab": {
      "provenance": [],
      "gpuType": "T4",
      "authorship_tag": "ABX9TyP9M6yV1pvYTA+J4E5FyS6E",
      "include_colab_link": true
    },
    "kernelspec": {
      "name": "python3",
      "display_name": "Python 3"
    },
    "language_info": {
      "name": "python"
    }
  },
  "cells": [
    {
      "cell_type": "markdown",
      "metadata": {
        "id": "view-in-github",
        "colab_type": "text"
      },
      "source": [
        "<a href=\"https://colab.research.google.com/github/Hyrysake/My_Data_Science/blob/main/Hw1.ipynb\" target=\"_parent\"><img src=\"https://colab.research.google.com/assets/colab-badge.svg\" alt=\"Open In Colab\"/></a>"
      ]
    },
    {
      "cell_type": "code",
      "execution_count": null,
      "metadata": {
        "id": "AGQQsqt5A1xM"
      },
      "outputs": [],
      "source": [
        "import numpy as np"
      ]
    },
    {
      "cell_type": "code",
      "source": [
        "vector = np.arange(1, 11)\n",
        "print(\"1. Вектор:\", vector)"
      ],
      "metadata": {
        "colab": {
          "base_uri": "https://localhost:8080/"
        },
        "id": "h2vEtE72Qfkh",
        "outputId": "76cd5e6f-1855-416a-ca6e-a5a816d76969"
      },
      "execution_count": null,
      "outputs": [
        {
          "output_type": "stream",
          "name": "stdout",
          "text": [
            "1. Вектор: [ 1  2  3  4  5  6  7  8  9 10]\n"
          ]
        }
      ]
    },
    {
      "cell_type": "code",
      "source": [
        "matrix_zeros = np.zeros((3, 3))\n",
        "print(\"\\n2. Матриця з нулями:\\n\", matrix_zeros)"
      ],
      "metadata": {
        "colab": {
          "base_uri": "https://localhost:8080/"
        },
        "id": "H957q8CjRR3B",
        "outputId": "743fa4c5-b5f1-4079-9c0b-0a224d4c0674"
      },
      "execution_count": null,
      "outputs": [
        {
          "output_type": "stream",
          "name": "stdout",
          "text": [
            "\n",
            "2. Матриця з нулями:\n",
            " [[0. 0. 0.]\n",
            " [0. 0. 0.]\n",
            " [0. 0. 0.]]\n"
          ]
        }
      ]
    },
    {
      "cell_type": "code",
      "source": [
        "matrix_random_integers = np.random.randint(1, 11, (5, 5))\n",
        "print(\"\\n3. Матриця з випадковими цілими числами:\\n\", matrix_random_integers)"
      ],
      "metadata": {
        "colab": {
          "base_uri": "https://localhost:8080/"
        },
        "id": "DXfT0YXaSJT5",
        "outputId": "fd58e5cd-c014-4c52-a9ff-e8da796842a4"
      },
      "execution_count": null,
      "outputs": [
        {
          "output_type": "stream",
          "name": "stdout",
          "text": [
            "\n",
            "3. Матриця з випадковими цілими числами:\n",
            " [[ 6  1  4  4  6]\n",
            " [ 5  7  9  7 10]\n",
            " [ 5  3  4  6  5]\n",
            " [ 4  8  9  2  6]\n",
            " [ 6  9  7  4  3]]\n"
          ]
        }
      ]
    },
    {
      "cell_type": "code",
      "source": [
        "matrix_random_floats = np.random.rand(4, 4)\n",
        "print(\"\\n4. Матриця з випадковими дійсними числами:\\n\", matrix_random_floats)"
      ],
      "metadata": {
        "colab": {
          "base_uri": "https://localhost:8080/"
        },
        "id": "oPR05PQFSMud",
        "outputId": "5a9d61dd-f9cf-47d1-d44d-69c00064d13e"
      },
      "execution_count": null,
      "outputs": [
        {
          "output_type": "stream",
          "name": "stdout",
          "text": [
            "\n",
            "4. Матриця з випадковими дійсними числами:\n",
            " [[0.41112528 0.03426232 0.22315811 0.15716622]\n",
            " [0.46323775 0.391963   0.47820532 0.46065337]\n",
            " [0.06997922 0.50651508 0.24907538 0.3596842 ]\n",
            " [0.56882084 0.33938818 0.41663502 0.08073517]]\n"
          ]
        }
      ]
    },
    {
      "cell_type": "code",
      "source": [
        "array1 = np.random.randint(1, 11, 5)\n",
        "array2 = np.random.randint(1, 11, 5)\n",
        "print(\"\\n5. Елементні операції:\")\n",
        "print(\"   Додавання:\", array1 + array2)\n",
        "print(\"   Віднімання:\", array1 - array2)\n",
        "print(\"   Множення:\", array1 * array2)"
      ],
      "metadata": {
        "colab": {
          "base_uri": "https://localhost:8080/"
        },
        "id": "h5Mue3m0SP1e",
        "outputId": "f0c625bf-bb75-40c4-b127-09bb0c424f86"
      },
      "execution_count": null,
      "outputs": [
        {
          "output_type": "stream",
          "name": "stdout",
          "text": [
            "\n",
            "5. Елементні операції:\n",
            "   Додавання: [6 3 7 9 8]\n",
            "   Віднімання: [ 2  1  1  3 -6]\n",
            "   Множення: [ 8  2 12 18  7]\n"
          ]
        }
      ]
    },
    {
      "cell_type": "code",
      "source": [
        "vector1 = np.random.random(7)\n",
        "vector2 = np.random.random(7)\n",
        "scalar_product = np.dot(vector1, vector2)\n",
        "print(\"\\n6. Скалярний добуток двох векторів:\", scalar_product)"
      ],
      "metadata": {
        "colab": {
          "base_uri": "https://localhost:8080/"
        },
        "id": "KdvEDku4SSNg",
        "outputId": "d43659ac-6235-4707-bae5-5a9c94e00de7"
      },
      "execution_count": null,
      "outputs": [
        {
          "output_type": "stream",
          "name": "stdout",
          "text": [
            "\n",
            "6. Скалярний добуток двох векторів: 1.6024904333687675\n"
          ]
        }
      ]
    },
    {
      "cell_type": "code",
      "source": [
        "matrix1 = np.random.randint(1, 11, (2, 2))\n",
        "matrix2 = np.random.randint(1, 11, (2, 3))\n",
        "matrix_product = np.dot(matrix1, matrix2)\n",
        "print(\"\\n7. Добуток двох матриць:\\n\", matrix_product)"
      ],
      "metadata": {
        "colab": {
          "base_uri": "https://localhost:8080/"
        },
        "id": "LEwxBxl0SWvw",
        "outputId": "dc210a2b-2c35-4b4c-c416-c30c1ee5457b"
      },
      "execution_count": null,
      "outputs": [
        {
          "output_type": "stream",
          "name": "stdout",
          "text": [
            "\n",
            "7. Добуток двох матриць:\n",
            " [[ 37 107 100]\n",
            " [ 24  74  52]]\n"
          ]
        }
      ]
    },
    {
      "cell_type": "code",
      "source": [
        "matrix_3x3 = np.random.randint(1, 11, (3, 3))\n",
        "inverse_matrix = np.linalg.inv(matrix_3x3)\n",
        "print(\"\\n8. Обернена матриця:\\n\", inverse_matrix)"
      ],
      "metadata": {
        "colab": {
          "base_uri": "https://localhost:8080/"
        },
        "id": "GOfZBAYLSaVE",
        "outputId": "36935e1c-ac25-408a-f47e-033231bc90a3"
      },
      "execution_count": null,
      "outputs": [
        {
          "output_type": "stream",
          "name": "stdout",
          "text": [
            "\n",
            "8. Обернена матриця:\n",
            " [[-0.14893617 -0.12765957  0.34042553]\n",
            " [ 0.08510638  0.28723404 -0.26595745]\n",
            " [ 0.14893617 -0.37234043  0.15957447]]\n"
          ]
        }
      ]
    },
    {
      "cell_type": "code",
      "source": [
        "matrix_4x4 = np.random.rand(4, 4)\n",
        "transposed_matrix = np.transpose(matrix_4x4)\n",
        "print(\"\\n9. Транспонована матриця:\\n\", transposed_matrix)"
      ],
      "metadata": {
        "colab": {
          "base_uri": "https://localhost:8080/"
        },
        "id": "cMpHDiYsSdvE",
        "outputId": "d83d01da-77b2-4520-b8df-65ec8c97b575"
      },
      "execution_count": null,
      "outputs": [
        {
          "output_type": "stream",
          "name": "stdout",
          "text": [
            "\n",
            "9. Транспонована матриця:\n",
            " [[0.13737435 0.48674291 0.7404666  0.229508  ]\n",
            " [0.28038722 0.76309804 0.74730713 0.14169466]\n",
            " [0.99353606 0.18964337 0.76775619 0.08397984]\n",
            " [0.1319939  0.85008375 0.56489235 0.94870468]]\n"
          ]
        }
      ]
    },
    {
      "cell_type": "code",
      "source": [
        "matrix_3x4 = np.random.randint(1, 11, (3, 4))\n",
        "vector_4 = np.random.randint(1, 11, 4)\n",
        "result = np.dot(matrix_3x4, vector_4)\n",
        "print(\"\\n10. Результат множення матриці на вектор:\\n\", result)"
      ],
      "metadata": {
        "colab": {
          "base_uri": "https://localhost:8080/"
        },
        "id": "OUm83p2qSgFy",
        "outputId": "fedbbe08-a0f7-43f8-e8e0-4498cefb9cfb"
      },
      "execution_count": null,
      "outputs": [
        {
          "output_type": "stream",
          "name": "stdout",
          "text": [
            "\n",
            "10. Результат множення матриці на вектор:\n",
            " [ 95  74 124]\n"
          ]
        }
      ]
    },
    {
      "cell_type": "code",
      "source": [
        "matrix_2x3 = np.random.rand(2, 3)\n",
        "vector_3 = np.random.rand(3)\n",
        "result = np.dot(matrix_2x3, vector_3)\n",
        "print(\"\\n11. Результат множення матриці на вектор:\\n\", result)"
      ],
      "metadata": {
        "colab": {
          "base_uri": "https://localhost:8080/"
        },
        "id": "UN3VhYPmSil1",
        "outputId": "3ad1f067-1e5c-4885-e161-cb2cc8efb461"
      },
      "execution_count": null,
      "outputs": [
        {
          "output_type": "stream",
          "name": "stdout",
          "text": [
            "\n",
            "11. Результат множення матриці на вектор:\n",
            " [0.27836226 0.45252507]\n"
          ]
        }
      ]
    },
    {
      "cell_type": "code",
      "source": [
        "matrix1 = np.random.randint(1, 11, (2, 2))\n",
        "matrix2 = np.random.randint(1, 11, (2, 2))\n",
        "elementwise_product = np.multiply(matrix1, matrix2)\n",
        "print(\"\\n12. Поелементне множення двох матриць:\\n\", elementwise_product)"
      ],
      "metadata": {
        "colab": {
          "base_uri": "https://localhost:8080/"
        },
        "id": "KxEavyvPSj_i",
        "outputId": "f499dc4e-d871-442f-accb-97a0a7770ee6"
      },
      "execution_count": null,
      "outputs": [
        {
          "output_type": "stream",
          "name": "stdout",
          "text": [
            "\n",
            "12. Поелементне множення двох матриць:\n",
            " [[42 27]\n",
            " [40  5]]\n"
          ]
        }
      ]
    },
    {
      "cell_type": "markdown",
      "source": [],
      "metadata": {
        "id": "WMSHd78dSjwn"
      }
    },
    {
      "cell_type": "code",
      "source": [
        "matrix1 = np.random.randint(1, 11, (2, 2))\n",
        "matrix2 = np.random.randint(1, 11, (2, 2))\n",
        "matrix_product = np.dot(matrix1, matrix2)\n",
        "print(\"\\n13. Добуток двох матриць:\\n\", matrix_product)"
      ],
      "metadata": {
        "colab": {
          "base_uri": "https://localhost:8080/"
        },
        "id": "LuSNJjVISpBa",
        "outputId": "57fbc62e-892a-4e89-9a85-70002fb8c66e"
      },
      "execution_count": null,
      "outputs": [
        {
          "output_type": "stream",
          "name": "stdout",
          "text": [
            "\n",
            "13. Добуток двох матриць:\n",
            " [[95 34]\n",
            " [39 28]]\n"
          ]
        }
      ]
    },
    {
      "cell_type": "code",
      "source": [
        "matrix_5x5 = np.random.randint(1, 101, (5, 5))\n",
        "sum_of_elements = np.sum(matrix_5x5)\n",
        "print(\"\\n14. Сума елементів матриці:\\n\", sum_of_elements)"
      ],
      "metadata": {
        "colab": {
          "base_uri": "https://localhost:8080/"
        },
        "id": "It0qxapoSquF",
        "outputId": "37ea7a05-d99a-4956-e031-a57c6a030e28"
      },
      "execution_count": null,
      "outputs": [
        {
          "output_type": "stream",
          "name": "stdout",
          "text": [
            "\n",
            "14. Сума елементів матриці:\n",
            " 1348\n"
          ]
        }
      ]
    },
    {
      "cell_type": "code",
      "source": [
        "matrix1_15 = np.random.randint(1, 11, (4, 4))\n",
        "matrix2_15 = np.random.randint(1, 11, (4, 4))\n",
        "difference_matrix = matrix1_15 - matrix2_15\n",
        "print(\"\\n15. Різниця двох матриць:\\n\", difference_matrix)"
      ],
      "metadata": {
        "colab": {
          "base_uri": "https://localhost:8080/"
        },
        "id": "LNQN9RRJTSLM",
        "outputId": "2005ec8e-fa84-41ba-fe29-3b6615fa6d99"
      },
      "execution_count": null,
      "outputs": [
        {
          "output_type": "stream",
          "name": "stdout",
          "text": [
            "\n",
            "15. Різниця двох матриць:\n",
            " [[-6  4  3 -7]\n",
            " [-3 -1 -7 -1]\n",
            " [ 2 -1 -6 -1]\n",
            " [-8  7 -9 -2]]\n"
          ]
        }
      ]
    },
    {
      "cell_type": "code",
      "source": [
        "matrix_16 = np.random.rand(3, 3)\n",
        "row_sums_vector = np.sum(matrix_16, axis=1)\n",
        "column_vector = row_sums_vector.reshape(3, 1)\n",
        "print(\"\\n16. Вектор-стовпчик сум елементів кожного рядка матриці:\\n\", column_vector)"
      ],
      "metadata": {
        "colab": {
          "base_uri": "https://localhost:8080/"
        },
        "id": "jKpoYFa3TWZN",
        "outputId": "60b7022f-7918-475c-fdfa-c9b75202b348"
      },
      "execution_count": null,
      "outputs": [
        {
          "output_type": "stream",
          "name": "stdout",
          "text": [
            "\n",
            "16. Вектор-стовпчик сум елементів кожного рядка матриці:\n",
            " [[1.69892807]\n",
            " [1.3326563 ]\n",
            " [2.08301167]]\n"
          ]
        }
      ]
    },
    {
      "cell_type": "code",
      "source": [
        "matrix_17 = np.random.randint(1, 11, (3, 4))\n",
        "squares_matrix = np.square(matrix_17)\n",
        "print(\"\\n17. Матриця з квадратами чисел:\\n\", squares_matrix)"
      ],
      "metadata": {
        "colab": {
          "base_uri": "https://localhost:8080/"
        },
        "id": "ouFYoflWTY7g",
        "outputId": "231fed23-adb8-41ac-f1e9-01786197a666"
      },
      "execution_count": null,
      "outputs": [
        {
          "output_type": "stream",
          "name": "stdout",
          "text": [
            "\n",
            "17. Матриця з квадратами чисел:\n",
            " [[ 1  1 16 16]\n",
            " [49 64 49  4]\n",
            " [ 4 49 49  1]]\n"
          ]
        }
      ]
    },
    {
      "cell_type": "code",
      "source": [
        "vector_18 = np.random.randint(1, 51, 4)\n",
        "sqrt_vector = np.sqrt(vector_18)\n",
        "print(\"\\n18. Вектор з квадратними коренями чисел:\\n\", sqrt_vector)"
      ],
      "metadata": {
        "id": "D-OuK_h_TbUz",
        "outputId": "74fd908c-f9ce-43ad-eac5-e449f5ff54ef",
        "colab": {
          "base_uri": "https://localhost:8080/"
        }
      },
      "execution_count": null,
      "outputs": [
        {
          "output_type": "stream",
          "name": "stdout",
          "text": [
            "\n",
            "18. Вектор з квадратними коренями чисел:\n",
            " [1.41421356 6.63324958 2.44948974 4.        ]\n"
          ]
        }
      ]
    }
  ]
}